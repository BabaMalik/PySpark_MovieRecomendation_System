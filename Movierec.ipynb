{
 "cells": [
  {
   "cell_type": "code",
   "execution_count": 1,
   "id": "b291bce0",
   "metadata": {},
   "outputs": [],
   "source": [
    "from pyspark import SparkContext, SparkConf\n",
    "from pyspark.sql import SparkSession\n",
    "from pyspark.sql import SQLContext\n",
    "import numpy as np\n",
    "import pandas as pd\n",
    "import pyspark"
   ]
  },
  {
   "cell_type": "code",
   "execution_count": 2,
   "id": "09f2c57c",
   "metadata": {},
   "outputs": [],
   "source": [
    "# create entry points to spark\n",
    "try:\n",
    "    #stop sparkcontext if running\n",
    "    sc.stop()\n",
    "except:\n",
    "    pass\n",
    "finally:\n",
    "    sc = SparkSession.builder.appName(\"MovieRecommendation_Project\").config(\"spark.some.config.option\", \"some-value\").getOrCreate()"
   ]
  },
  {
   "cell_type": "code",
   "execution_count": 3,
   "id": "d3f68e5f",
   "metadata": {
    "scrolled": true
   },
   "outputs": [],
   "source": [
    "rating = sc.read.csv(r\"C:\\Users\\babam\\OneDrive\\Desktop\\Data Science\\Hands_On\\rating.csv\",header=True,inferSchema=True)\n",
    "movies = sc.read.csv(r\"C:\\Users\\babam\\OneDrive\\Desktop\\Data Science\\Hands_On\\movie.csv\",header=True,inferSchema=True)"
   ]
  },
  {
   "cell_type": "code",
   "execution_count": 5,
   "id": "a623c53f",
   "metadata": {},
   "outputs": [],
   "source": [
    "movies_filename=sc.read.csv(r\"C:\\Users\\babam\\OneDrive\\Desktop\\Data Science\\Hands_On\\movie.csv\",header=True,inferSchema=True)"
   ]
  },
  {
   "cell_type": "code",
   "execution_count": 6,
   "id": "77f2e5e3",
   "metadata": {},
   "outputs": [
    {
     "name": "stdout",
     "output_type": "stream",
     "text": [
      "root\n",
      " |-- userId: integer (nullable = true)\n",
      " |-- movieId: integer (nullable = true)\n",
      " |-- rating: double (nullable = true)\n",
      " |-- timestamp: string (nullable = true)\n",
      "\n"
     ]
    }
   ],
   "source": [
    "rating.printSchema()"
   ]
  },
  {
   "cell_type": "code",
   "execution_count": 7,
   "id": "f571c78e",
   "metadata": {},
   "outputs": [
    {
     "name": "stdout",
     "output_type": "stream",
     "text": [
      "+------+-------+------+-------------------+\n",
      "|userId|movieId|rating|          timestamp|\n",
      "+------+-------+------+-------------------+\n",
      "|     1|      2|   3.5|2005-04-02 23:53:47|\n",
      "|     1|     29|   3.5|2005-04-02 23:31:16|\n",
      "|     1|     32|   3.5|2005-04-02 23:33:39|\n",
      "|     1|     47|   3.5|2005-04-02 23:32:07|\n",
      "|     1|     50|   3.5|2005-04-02 23:29:40|\n",
      "+------+-------+------+-------------------+\n",
      "only showing top 5 rows\n",
      "\n"
     ]
    }
   ],
   "source": [
    "rating.show(5)"
   ]
  },
  {
   "cell_type": "code",
   "execution_count": 8,
   "id": "3e18151e",
   "metadata": {
    "scrolled": true
   },
   "outputs": [
    {
     "name": "stdout",
     "output_type": "stream",
     "text": [
      "+-------+--------------------+--------------------+\n",
      "|movieId|               title|              genres|\n",
      "+-------+--------------------+--------------------+\n",
      "|      1|    Toy Story (1995)|Adventure|Animati...|\n",
      "|      2|      Jumanji (1995)|Adventure|Childre...|\n",
      "|      3|Grumpier Old Men ...|      Comedy|Romance|\n",
      "|      4|Waiting to Exhale...|Comedy|Drama|Romance|\n",
      "|      5|Father of the Bri...|              Comedy|\n",
      "+-------+--------------------+--------------------+\n",
      "only showing top 5 rows\n",
      "\n"
     ]
    }
   ],
   "source": [
    "movies.show(5)"
   ]
  },
  {
   "cell_type": "code",
   "execution_count": 9,
   "id": "e1b65193",
   "metadata": {},
   "outputs": [
    {
     "name": "stdout",
     "output_type": "stream",
     "text": [
      "root\n",
      " |-- movieId: integer (nullable = true)\n",
      " |-- title: string (nullable = true)\n",
      " |-- genres: string (nullable = true)\n",
      "\n"
     ]
    }
   ],
   "source": [
    "movies.printSchema()"
   ]
  },
  {
   "cell_type": "code",
   "execution_count": 10,
   "id": "3d3bb808",
   "metadata": {},
   "outputs": [],
   "source": [
    "from pyspark.sql.types import *\n",
    "#working only on movie.csv right now\n",
    "\n",
    "movies_with_genres_df_schema =  StructType([\n",
    "    StructField('ID', IntegerType()),\n",
    "    StructField('title',StringType()),\n",
    "    StructField('genres', StringType())\n",
    "])\n",
    "\n",
    "movies_df_schema = StructType([\n",
    "    StructField('ID',IntegerType()),\n",
    "    StructField('title', StringType())\n",
    "]) #droping the genres. Also, we will tranform the df to iclude the year later"
   ]
  },
  {
   "cell_type": "code",
   "execution_count": 14,
   "id": "cae56047",
   "metadata": {},
   "outputs": [],
   "source": [
    "# creating the dataframes\n",
    "movies_df = sc.read.format(\"csv\") \\\n",
    "      .option(\"header\", True) \\\n",
    "      .schema(movies_df_schema) \\\n",
    "      .load(r\"C:\\Users\\babam\\OneDrive\\Desktop\\Data Science\\Hands_On\\movie.csv\")\n",
    "movies_with_genres_df = sc.read.format(\"csv\") \\\n",
    "      .option(\"header\", True) \\\n",
    "      .schema(movies_with_genres_df_schema) \\\n",
    "      .load(r\"C:\\Users\\babam\\OneDrive\\Desktop\\Data Science\\Hands_On\\movie.csv\")"
   ]
  },
  {
   "cell_type": "code",
   "execution_count": 15,
   "id": "84efc450",
   "metadata": {},
   "outputs": [
    {
     "name": "stdout",
     "output_type": "stream",
     "text": [
      "+---+--------------------+\n",
      "| ID|               title|\n",
      "+---+--------------------+\n",
      "|  1|    Toy Story (1995)|\n",
      "|  2|      Jumanji (1995)|\n",
      "|  3|Grumpier Old Men ...|\n",
      "|  4|Waiting to Exhale...|\n",
      "|  5|Father of the Bri...|\n",
      "+---+--------------------+\n",
      "only showing top 5 rows\n",
      "\n"
     ]
    }
   ],
   "source": [
    "movies_df.show(5)"
   ]
  },
  {
   "cell_type": "code",
   "execution_count": 16,
   "id": "e462b9db",
   "metadata": {},
   "outputs": [
    {
     "name": "stdout",
     "output_type": "stream",
     "text": [
      "+---+----------------------------------+-------------------------------------------+\n",
      "|ID |title                             |genres                                     |\n",
      "+---+----------------------------------+-------------------------------------------+\n",
      "|1  |Toy Story (1995)                  |Adventure|Animation|Children|Comedy|Fantasy|\n",
      "|2  |Jumanji (1995)                    |Adventure|Children|Fantasy                 |\n",
      "|3  |Grumpier Old Men (1995)           |Comedy|Romance                             |\n",
      "|4  |Waiting to Exhale (1995)          |Comedy|Drama|Romance                       |\n",
      "|5  |Father of the Bride Part II (1995)|Comedy                                     |\n",
      "+---+----------------------------------+-------------------------------------------+\n",
      "only showing top 5 rows\n",
      "\n"
     ]
    }
   ],
   "source": [
    "movies_with_genres_df.show(5,truncate=False)"
   ]
  },
  {
   "cell_type": "code",
   "execution_count": 17,
   "id": "72bc1b78",
   "metadata": {},
   "outputs": [
    {
     "data": {
      "text/plain": [
       "122"
      ]
     },
     "execution_count": 17,
     "metadata": {},
     "output_type": "execute_result"
    }
   ],
   "source": [
    "from pyspark.sql.functions import split, regexp_extract\n",
    "\n",
    "movies_with_year_df = movies_df.select(\"ID\",\"title\",regexp_extract('title',r'\\((\\d+)\\)',1).alias('year'))\n",
    "movies_with_year_df.select('year').distinct().count()"
   ]
  },
  {
   "cell_type": "code",
   "execution_count": 18,
   "id": "6a6a4d3b",
   "metadata": {},
   "outputs": [
    {
     "name": "stdout",
     "output_type": "stream",
     "text": [
      "+---+----------------------------------+----+\n",
      "|ID |title                             |year|\n",
      "+---+----------------------------------+----+\n",
      "|1  |Toy Story (1995)                  |1995|\n",
      "|2  |Jumanji (1995)                    |1995|\n",
      "|3  |Grumpier Old Men (1995)           |1995|\n",
      "|4  |Waiting to Exhale (1995)          |1995|\n",
      "|5  |Father of the Bride Part II (1995)|1995|\n",
      "+---+----------------------------------+----+\n",
      "only showing top 5 rows\n",
      "\n"
     ]
    }
   ],
   "source": [
    "movies_with_year_df.show(5,truncate=False)"
   ]
  },
  {
   "cell_type": "markdown",
   "id": "eda0acf5",
   "metadata": {},
   "source": [
    "# Now we will use the inbuilt functionaluty of Databricks for some insights"
   ]
  },
  {
   "cell_type": "code",
   "execution_count": 19,
   "id": "0aae2f6b",
   "metadata": {},
   "outputs": [
    {
     "name": "stdout",
     "output_type": "stream",
     "text": [
      "+----+-----+\n",
      "|year|count|\n",
      "+----+-----+\n",
      "|2009| 1112|\n",
      "|2012| 1022|\n",
      "|2011| 1016|\n",
      "|2013| 1011|\n",
      "|2008|  979|\n",
      "|2010|  962|\n",
      "|2007|  902|\n",
      "|2006|  855|\n",
      "|2005|  741|\n",
      "|2014|  740|\n",
      "|2004|  706|\n",
      "|2002|  678|\n",
      "|2003|  655|\n",
      "|2001|  633|\n",
      "|2000|  613|\n",
      "|1998|  555|\n",
      "|1999|  542|\n",
      "|1997|  528|\n",
      "|1996|  509|\n",
      "|1995|  474|\n",
      "+----+-----+\n",
      "only showing top 20 rows\n",
      "\n"
     ]
    }
   ],
   "source": [
    "# from here we can look at the count and find that the maximum number of movies are produced in 2000\n",
    "\n",
    "movies_with_year_df.groupBy('year').count().orderBy('count',ascending=False).show()"
   ]
  },
  {
   "cell_type": "markdown",
   "id": "2e59bc4e",
   "metadata": {},
   "source": [
    "# Now lets move to Ratings"
   ]
  },
  {
   "cell_type": "code",
   "execution_count": 20,
   "id": "ea172073",
   "metadata": {},
   "outputs": [],
   "source": [
    "ratings_df_schema = StructType([\n",
    "    StructField(\"userId\",IntegerType()),\n",
    "    StructField('movieId', IntegerType()),\n",
    "    StructField('rating', DoubleType())\n",
    "])#we are droping the line Time Stamp Column"
   ]
  },
  {
   "cell_type": "code",
   "execution_count": 23,
   "id": "7d05553f",
   "metadata": {},
   "outputs": [],
   "source": [
    "ratings_df = movies_with_genres_df = sc.read.format(\"csv\") \\\n",
    "      .option(\"header\", True) \\\n",
    "      .schema(ratings_df_schema) \\\n",
    "      .load(r\"C:\\Users\\babam\\OneDrive\\Desktop\\Data Science\\Hands_On\\rating.csv\")"
   ]
  },
  {
   "cell_type": "code",
   "execution_count": 24,
   "id": "4c8c9825",
   "metadata": {},
   "outputs": [
    {
     "name": "stdout",
     "output_type": "stream",
     "text": [
      "+------+-------+------+\n",
      "|userId|movieId|rating|\n",
      "+------+-------+------+\n",
      "|     1|      2|   3.5|\n",
      "|     1|     29|   3.5|\n",
      "|     1|     32|   3.5|\n",
      "|     1|     47|   3.5|\n",
      "|     1|     50|   3.5|\n",
      "+------+-------+------+\n",
      "only showing top 5 rows\n",
      "\n"
     ]
    }
   ],
   "source": [
    "ratings_df.show(5)"
   ]
  },
  {
   "cell_type": "code",
   "execution_count": 25,
   "id": "8eb4d13e",
   "metadata": {},
   "outputs": [
    {
     "data": {
      "text/plain": [
       "DataFrame[ID: int, title: string]"
      ]
     },
     "execution_count": 25,
     "metadata": {},
     "output_type": "execute_result"
    }
   ],
   "source": [
    "# we will cache both the dataframe so that we can access them quickly\n",
    "\n",
    "ratings_df.cache()\n",
    "movies_df.cache()"
   ]
  },
  {
   "cell_type": "code",
   "execution_count": 26,
   "id": "d17b258e",
   "metadata": {},
   "outputs": [
    {
     "name": "stdout",
     "output_type": "stream",
     "text": [
      "+-------+-----+------------------+\n",
      "|movieId|count|average           |\n",
      "+-------+-----+------------------+\n",
      "|3997   |2047 |2.0703468490473864|\n",
      "|1580   |35580|3.55831928049466  |\n",
      "|3918   |1246 |2.918940609951846 |\n",
      "|2366   |6627 |3.5492681454655197|\n",
      "|3175   |13945|3.600717102904267 |\n",
      "+-------+-----+------------------+\n",
      "only showing top 5 rows\n",
      "\n"
     ]
    }
   ],
   "source": [
    "from pyspark.sql import functions as F\n",
    "\n",
    "movie_ids_with_avg_ratings_df = ratings_df.groupBy('movieId').agg(F.count(ratings_df.rating).alias('count'),\\\n",
    "                                                                 F.avg(ratings_df.rating).alias('average'))\n",
    "movie_ids_with_avg_ratings_df.show(5,truncate=False)"
   ]
  },
  {
   "cell_type": "code",
   "execution_count": 27,
   "id": "87cd29b4",
   "metadata": {},
   "outputs": [
    {
     "data": {
      "text/plain": [
       "['movieId', 'count', 'average']"
      ]
     },
     "execution_count": 27,
     "metadata": {},
     "output_type": "execute_result"
    }
   ],
   "source": [
    "movie_ids_with_avg_ratings_df.columns"
   ]
  },
  {
   "cell_type": "code",
   "execution_count": 28,
   "id": "73509594",
   "metadata": {},
   "outputs": [
    {
     "name": "stdout",
     "output_type": "stream",
     "text": [
      "+-------+-----+------------------+--------------------+\n",
      "|movieId|count|           average|               title|\n",
      "+-------+-----+------------------+--------------------+\n",
      "|   3997| 2047|2.0703468490473864|Dungeons & Dragon...|\n",
      "|   1580|35580|  3.55831928049466|Men in Black (a.k...|\n",
      "|   3918| 1246| 2.918940609951846|Hellbound: Hellra...|\n",
      "|   2366| 6627|3.5492681454655197|    King Kong (1933)|\n",
      "|   3175|13945| 3.600717102904267| Galaxy Quest (1999)|\n",
      "+-------+-----+------------------+--------------------+\n",
      "only showing top 5 rows\n",
      "\n"
     ]
    }
   ],
   "source": [
    "movies_names_with_avg_rating_df = movie_ids_with_avg_ratings_df.join(movies_df, F.col('movieID') == F.col('ID')).drop(\"ID\")\n",
    "movies_names_with_avg_rating_df.show(5)"
   ]
  },
  {
   "cell_type": "code",
   "execution_count": 29,
   "id": "e1bcac78",
   "metadata": {},
   "outputs": [
    {
     "name": "stdout",
     "output_type": "stream",
     "text": [
      "+-------+-----+-------+-----+\n",
      "|movieId|count|average|title|\n",
      "+-------+-----+-------+-----+\n",
      "|      0|    0|      0|    0|\n",
      "+-------+-----+-------+-----+\n",
      "\n"
     ]
    }
   ],
   "source": [
    "from pyspark.sql.functions import col,isnan,when,count\n",
    "\n",
    "movies_names_with_avg_rating_df.select([count(when(isnan(c) | col(c).isNull(), c)).alias(c) for c in movies_names_with_avg_rating_df.columns]).show(10)"
   ]
  },
  {
   "cell_type": "code",
   "execution_count": 30,
   "id": "7e4ef30c",
   "metadata": {},
   "outputs": [
    {
     "name": "stdout",
     "output_type": "stream",
     "text": [
      "+-------+-----+------------------+---------------------------------------------------------------------------+\n",
      "|movieId|count|average           |title                                                                      |\n",
      "+-------+-----+------------------+---------------------------------------------------------------------------+\n",
      "|318    |63366|4.446990499637029 |Shawshank Redemption, The (1994)                                           |\n",
      "|858    |41355|4.364732196832306 |Godfather, The (1972)                                                      |\n",
      "|50     |47006|4.334372207803259 |Usual Suspects, The (1995)                                                 |\n",
      "|527    |50054|4.310175010988133 |Schindler's List (1993)                                                    |\n",
      "|1221   |27398|4.275640557704942 |Godfather: Part II, The (1974)                                             |\n",
      "|2019   |11611|4.2741796572216   |Seven Samurai (Shichinin no samurai) (1954)                                |\n",
      "|904    |17449|4.271333600779414 |Rear Window (1954)                                                         |\n",
      "|7502   |4305 |4.263182346109176 |Band of Brothers (2001)                                                    |\n",
      "|912    |24349|4.258326830670664 |Casablanca (1942)                                                          |\n",
      "|922    |6525 |4.256934865900383 |Sunset Blvd. (a.k.a. Sunset Boulevard) (1950)                              |\n",
      "|1193   |29932|4.24807897901911  |One Flew Over the Cuckoo's Nest (1975)                                     |\n",
      "|750    |23220|4.247286821705426 |Dr. Strangelove or: How I Learned to Stop Worrying and Love the Bomb (1964)|\n",
      "|1212   |6565 |4.246001523229246 |Third Man, The (1949)                                                      |\n",
      "|6016   |12937|4.235410064157069 |City of God (Cidade de Deus) (2002)                                        |\n",
      "|44555  |5720 |4.2347902097902095|Lives of Others, The (Das leben der Anderen) (2006)                        |\n",
      "|908    |15627|4.233538107122288 |North by Northwest (1959)                                                  |\n",
      "|1178   |3568 |4.2326233183856505|Paths of Glory (1957)                                                      |\n",
      "|2959   |40106|4.227123123722136 |Fight Club (1999)                                                          |\n",
      "|3435   |4909 |4.224281931146873 |Double Indemnity (1944)                                                    |\n",
      "|1203   |12934|4.224137931034483 |12 Angry Men (1957)                                                        |\n",
      "+-------+-----+------------------+---------------------------------------------------------------------------+\n",
      "only showing top 20 rows\n",
      "\n"
     ]
    }
   ],
   "source": [
    "# so let us see the global popularity\n",
    "\n",
    "movies_with_500_ratings_or_more = movies_names_with_avg_rating_df.filter(movies_names_with_avg_rating_df['count'] \\\n",
    "                                                                        >= 500).orderBy('average', ascending=False)\n",
    "movies_with_500_ratings_or_more.show(truncate=False)"
   ]
  },
  {
   "cell_type": "code",
   "execution_count": 31,
   "id": "5316dd3d",
   "metadata": {},
   "outputs": [
    {
     "name": "stdout",
     "output_type": "stream",
     "text": [
      "+-------+-----+-------+--------------------+\n",
      "|movieId|count|average|               title|\n",
      "+-------+-----+-------+--------------------+\n",
      "|    318|63366|      4|Shawshank Redempt...|\n",
      "|    858|41355|      4|Godfather, The (1...|\n",
      "|     50|47006|      4|Usual Suspects, T...|\n",
      "|    527|50054|      4|Schindler's List ...|\n",
      "|   1221|27398|      4|Godfather: Part I...|\n",
      "|   2019|11611|      4|Seven Samurai (Sh...|\n",
      "+-------+-----+-------+--------------------+\n",
      "only showing top 6 rows\n",
      "\n"
     ]
    }
   ],
   "source": [
    "movies_with_500_ratings_or_more.withColumn(\"average\", movies_with_500_ratings_or_more[\"average\"].cast(IntegerType())).show(6)"
   ]
  },
  {
   "cell_type": "markdown",
   "id": "333fa1c0",
   "metadata": {},
   "source": [
    "# Splitting in Train, Test and Validation dataset"
   ]
  },
  {
   "cell_type": "markdown",
   "id": "8d1d18a6",
   "metadata": {},
   "source": [
    "As with all the Machine Learning Algorithms in practice we have to tune parameters and then accuracy. For this we will split the data into 3 parts Train, Test(Checking the final accuracy) and Validation(optimizing hyperparameters) data."
   ]
  },
  {
   "cell_type": "code",
   "execution_count": 32,
   "id": "8a632ce6",
   "metadata": {},
   "outputs": [
    {
     "name": "stdout",
     "output_type": "stream",
     "text": [
      "Training: 11999231, validation: 4000853, test: 4000179\n",
      "\n",
      "+------+-------+------+\n",
      "|userId|movieId|rating|\n",
      "+------+-------+------+\n",
      "|     1|     29|   3.5|\n",
      "|     1|     32|   3.5|\n",
      "|     1|     47|   3.5|\n",
      "|     1|     50|   3.5|\n",
      "|     1|    112|   3.5|\n",
      "+------+-------+------+\n",
      "only showing top 5 rows\n",
      "\n",
      "+------+-------+------+\n",
      "|userId|movieId|rating|\n",
      "+------+-------+------+\n",
      "|     1|    260|   4.0|\n",
      "|     1|    318|   4.0|\n",
      "|     1|    541|   4.0|\n",
      "|     1|    589|   3.5|\n",
      "|     1|   1036|   4.0|\n",
      "+------+-------+------+\n",
      "only showing top 5 rows\n",
      "\n",
      "+------+-------+------+\n",
      "|userId|movieId|rating|\n",
      "+------+-------+------+\n",
      "|     1|      2|   3.5|\n",
      "|     1|    223|   4.0|\n",
      "|     1|    367|   3.5|\n",
      "|     1|    924|   3.5|\n",
      "|     1|   1080|   3.5|\n",
      "|     1|   1090|   4.0|\n",
      "|     1|   1200|   4.0|\n",
      "|     1|   1201|   3.0|\n",
      "|     1|   1208|   3.5|\n",
      "|     1|   1240|   4.0|\n",
      "|     1|   1259|   4.0|\n",
      "|     1|   1262|   3.5|\n",
      "|     1|   1374|   4.0|\n",
      "|     1|   1525|   3.0|\n",
      "|     1|   1848|   3.5|\n",
      "|     1|   2140|   4.0|\n",
      "|     1|   2173|   4.0|\n",
      "|     1|   2716|   3.5|\n",
      "|     1|   2761|   3.0|\n",
      "|     1|   2762|   4.0|\n",
      "+------+-------+------+\n",
      "only showing top 20 rows\n",
      "\n"
     ]
    }
   ],
   "source": [
    "seed = 4\n",
    "(split_60_df, split_a_20_df, split_b_20_df) = ratings_df.randomSplit([0.6,0.2,0.2],seed)\n",
    "\n",
    "training_df = split_60_df.cache()\n",
    "validation_df =split_a_20_df.cache()\n",
    "test_df = split_b_20_df.cache()\n",
    "\n",
    "print('Training: {0}, validation: {1}, test: {2}\\n'.format(training_df.count(),validation_df.count(),test_df.count()))\n",
    "\n",
    "training_df.show(5)\n",
    "validation_df.show(5)\n",
    "test_df.show()"
   ]
  },
  {
   "cell_type": "code",
   "execution_count": 33,
   "id": "0db015ef",
   "metadata": {},
   "outputs": [],
   "source": [
    "from pyspark.ml.recommendation import ALS\n",
    "\n",
    "als = ALS()\n",
    "\n",
    "als.setPredictionCol(\"prediction\").setMaxIter(5) \\\n",
    ".setSeed(seed).setRegParam(0.1).setUserCol('userId')\\\n",
    ".setItemCol('movieId').setRatingCol('rating').setRank(8) # we got rank 8 as optimal\n",
    "\n",
    "my_ratings_model = als.fit(training_df)"
   ]
  },
  {
   "cell_type": "code",
   "execution_count": 35,
   "id": "0352472a",
   "metadata": {},
   "outputs": [
    {
     "name": "stdout",
     "output_type": "stream",
     "text": [
      "The model had a RMSE on the test set of 0.8149067145486095\n"
     ]
    }
   ],
   "source": [
    "from pyspark.ml.evaluation import RegressionEvaluator\n",
    "from pyspark.sql.functions import col\n",
    "\n",
    "#Create an RMSE evaluator using the label and predicted columns\n",
    "#it will essentially calculate the rmse score based on these columns\n",
    "\n",
    "reg_eval = RegressionEvaluator(predictionCol=\"prediction\", labelCol=\"rating\", metricName=\"rmse\")\n",
    "my_predict_df = my_ratings_model.transform(test_df)\n",
    "\n",
    "# Remove NaN values from prediction\n",
    "predicted_test_my_ratings_df = my_predict_df.filter(my_predict_df.prediction != float('nan'))\n",
    "\n",
    "# Run the previously create RMSE evaluator, reg_eval, on the predicted_test_my_ratings_df DataFrame\n",
    "test_RMSE_my_ratings = reg_eval.evaluate(predicted_test_my_ratings_df)\n",
    "print('The model had a RMSE on the test set of {0}'.format(test_RMSE_my_ratings))\n",
    "#ll = predicted_test_my_ratings_df.filer(col('userId') == uid)\n"
   ]
  },
  {
   "cell_type": "code",
   "execution_count": 52,
   "id": "0b28e09e",
   "metadata": {},
   "outputs": [
    {
     "name": "stdout",
     "output_type": "stream",
     "text": [
      "1\n",
      "+------+-------+------+----------+\n",
      "|userId|movieId|rating|prediction|\n",
      "+------+-------+------+----------+\n",
      "|     1|      2|   3.5| 3.3235312|\n",
      "|     1|    223|   4.0|  3.704118|\n",
      "|     1|    367|   3.5|  3.294037|\n",
      "|     1|    924|   3.5| 3.5627913|\n",
      "|     1|   1080|   3.5| 3.8593206|\n",
      "|     1|   1090|   4.0| 3.6929808|\n",
      "|     1|   1200|   4.0| 3.9582977|\n",
      "|     1|   1201|   3.0|  3.909423|\n",
      "|     1|   1208|   3.5| 3.6677313|\n",
      "|     1|   1240|   4.0| 3.8941927|\n",
      "|     1|   1259|   4.0| 3.8882084|\n",
      "|     1|   1262|   3.5| 3.9833024|\n",
      "|     1|   1374|   4.0| 3.7711673|\n",
      "|     1|   1525|   3.0|  2.838419|\n",
      "|     1|   1848|   3.5| 3.1693645|\n",
      "|     1|   2140|   4.0| 3.7380056|\n",
      "|     1|   2173|   4.0|  3.417886|\n",
      "|     1|   2716|   3.5| 3.8197331|\n",
      "|     1|   2761|   3.0|  3.768232|\n",
      "|     1|   2762|   4.0| 3.9792001|\n",
      "+------+-------+------+----------+\n",
      "only showing top 20 rows\n",
      "\n"
     ]
    }
   ],
   "source": [
    "user_input = int(input())\n",
    "ll = predicted_test_my_ratings_df.filter(col('userId') == user_input)\n",
    "ll.show()"
   ]
  },
  {
   "cell_type": "code",
   "execution_count": 54,
   "id": "d25d0528",
   "metadata": {},
   "outputs": [
    {
     "name": "stdout",
     "output_type": "stream",
     "text": [
      "+------+-------+------+----------+\n",
      "|userId|movieId|rating|prediction|\n",
      "+------+-------+------+----------+\n",
      "|     1|   1525|   3.0|  2.838419|\n",
      "|     1|   1201|   3.0|  3.909423|\n",
      "|     1|   2761|   3.0|  3.768232|\n",
      "|     1|   4915|   3.0| 3.2821014|\n",
      "|     1|   7449|   3.5| 2.7528682|\n",
      "|     1|      2|   3.5| 3.3235312|\n",
      "|     1|   3476|   3.5| 3.5421002|\n",
      "|     1|   1208|   3.5| 3.6677313|\n",
      "|     1|   2716|   3.5| 3.8197331|\n",
      "|     1|   1848|   3.5| 3.1693645|\n",
      "+------+-------+------+----------+\n",
      "\n"
     ]
    }
   ],
   "source": [
    "ll.sort('rating', ascending=True).limit(10).show()"
   ]
  },
  {
   "cell_type": "code",
   "execution_count": 89,
   "id": "7ea016c1",
   "metadata": {},
   "outputs": [
    {
     "name": "stdout",
     "output_type": "stream",
     "text": [
      "+------+-------+------+----------+--------------------+\n",
      "|userId|movieId|rating|prediction|               title|\n",
      "+------+-------+------+----------+--------------------+\n",
      "| 41169|   2338|   0.5|0.26039073|I Still Know What...|\n",
      "|  2974|  42721|   0.5|0.66575694|   BloodRayne (2005)|\n",
      "| 26655|   3593|   2.0|0.75884736|Battlefield Earth...|\n",
      "| 12710|  31698|   1.5| 0.8623145|Son of the Mask (...|\n",
      "|  7388|   4255|   1.0| 0.9529568|Freddy Got Finger...|\n",
      "| 31302|   3962|   1.0|0.99716854|  Ghoulies II (1987)|\n",
      "| 46072|  92719|   0.5| 1.0189399|Tim and Eric's Bi...|\n",
      "| 45815|   2385|   1.0| 1.0475426|   Home Fries (1998)|\n",
      "| 16050|   1839|   0.5| 1.0862435|     My Giant (1998)|\n",
      "| 37253|   1192|   0.5| 1.0993501|Paris Is Burning ...|\n",
      "+------+-------+------+----------+--------------------+\n",
      "only showing top 10 rows\n",
      "\n"
     ]
    }
   ],
   "source": [
    "predicted_test_my_ratings_df.join(movies_df,F.col('movieID') == F.col('ID')).drop(\"ID\").orderBy('movieId', ascending=False) \\\n",
    ".distinct().show(10)"
   ]
  },
  {
   "cell_type": "code",
   "execution_count": 91,
   "id": "0e204720",
   "metadata": {},
   "outputs": [
    {
     "name": "stdout",
     "output_type": "stream",
     "text": [
      "+------+-------+------+----------+--------------------+\n",
      "|userId|movieId|rating|prediction|               title|\n",
      "+------+-------+------+----------+--------------------+\n",
      "| 41169|   2338|   0.5|0.26039073|I Still Know What...|\n",
      "|  2974|  42721|   0.5|0.66575694|   BloodRayne (2005)|\n",
      "| 26655|   3593|   2.0|0.75884736|Battlefield Earth...|\n",
      "| 12710|  31698|   1.5| 0.8623145|Son of the Mask (...|\n",
      "|  7388|   4255|   1.0| 0.9529568|Freddy Got Finger...|\n",
      "| 31302|   3962|   1.0|0.99716854|  Ghoulies II (1987)|\n",
      "| 46072|  92719|   0.5| 1.0189399|Tim and Eric's Bi...|\n",
      "| 45815|   2385|   1.0| 1.0475426|   Home Fries (1998)|\n",
      "| 16050|   1839|   0.5| 1.0862435|     My Giant (1998)|\n",
      "| 37253|   1192|   0.5| 1.0993501|Paris Is Burning ...|\n",
      "+------+-------+------+----------+--------------------+\n",
      "only showing top 10 rows\n",
      "\n"
     ]
    }
   ],
   "source": [
    "#my_predict_df.join(movies_df,F.col('movieID') == F.col('ID')).select('title','rating','movieId').orderBy('title','rating',ascending= False).distinct().show(10)\n",
    "my_predict_df.join(movies_df,F.col('movieID') == F.col('ID')).drop(\"ID\").sort('movieId','rating',ascending= False).distinct().show(10)"
   ]
  },
  {
   "cell_type": "code",
   "execution_count": null,
   "id": "cc61ee4f",
   "metadata": {},
   "outputs": [],
   "source": []
  }
 ],
 "metadata": {
  "kernelspec": {
   "display_name": "Python 3 (ipykernel)",
   "language": "python",
   "name": "python3"
  },
  "language_info": {
   "codemirror_mode": {
    "name": "ipython",
    "version": 3
   },
   "file_extension": ".py",
   "mimetype": "text/x-python",
   "name": "python",
   "nbconvert_exporter": "python",
   "pygments_lexer": "ipython3",
   "version": "3.9.11"
  }
 },
 "nbformat": 4,
 "nbformat_minor": 5
}
